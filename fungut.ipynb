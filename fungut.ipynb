{
 "cells": [
  {
   "cell_type": "code",
   "execution_count": 18,
   "id": "c8b7b672-4fca-4f4e-ab08-c397ec914b27",
   "metadata": {
    "execution": {
     "iopub.execute_input": "2025-09-29T08:15:07.476166Z",
     "iopub.status.busy": "2025-09-29T08:15:07.475757Z",
     "iopub.status.idle": "2025-09-29T08:15:08.717340Z",
     "shell.execute_reply": "2025-09-29T08:15:08.715849Z",
     "shell.execute_reply.started": "2025-09-29T08:15:07.476135Z"
    },
    "tags": []
   },
   "outputs": [],
   "source": [
    "# importing all required packages at the start of the notebook\n",
    "import IPython\n",
    "\n",
    "import pandas as pd\n",
    "import matplotlib.pyplot as plt\n",
    "import qiime2 as q2\n",
    "import seaborn as sns\n",
    "\n",
    "import os\n",
    "\n",
    "import matplotlib.pyplot as plt\n",
    "%matplotlib inline"
   ]
  },
  {
   "cell_type": "code",
   "execution_count": null,
   "id": "c3c49989-b370-4cf6-b00c-336446fd4305",
   "metadata": {},
   "outputs": [],
   "source": []
  }
 ],
 "metadata": {
  "kernelspec": {
   "display_name": "QIIME 2",
   "language": "python",
   "name": "python3"
  },
  "language_info": {
   "codemirror_mode": {
    "name": "ipython",
    "version": 3
   },
   "file_extension": ".py",
   "mimetype": "text/x-python",
   "name": "python",
   "nbconvert_exporter": "python",
   "pygments_lexer": "ipython3",
   "version": "3.10.14"
  }
 },
 "nbformat": 4,
 "nbformat_minor": 5
}
