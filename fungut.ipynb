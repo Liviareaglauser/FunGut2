{
 "cells": [
  {
   "cell_type": "code",
   "execution_count": 33,
   "id": "c8b7b672-4fca-4f4e-ab08-c397ec914b27",
   "metadata": {
    "execution": {
     "iopub.execute_input": "2025-10-01T13:48:06.206428Z",
     "iopub.status.busy": "2025-10-01T13:48:06.205601Z",
     "iopub.status.idle": "2025-10-01T13:48:06.210627Z",
     "shell.execute_reply": "2025-10-01T13:48:06.209603Z",
     "shell.execute_reply.started": "2025-10-01T13:48:06.206373Z"
    },
    "tags": []
   },
   "outputs": [],
   "source": [
    "# Das ist unser Code"
   ]
  },
  {
   "cell_type": "code",
   "execution_count": 17,
   "id": "c3c49989-b370-4cf6-b00c-336446fd4305",
   "metadata": {
    "execution": {
     "iopub.execute_input": "2025-10-03T12:54:37.122556Z",
     "iopub.status.busy": "2025-10-03T12:54:37.121897Z",
     "iopub.status.idle": "2025-10-03T12:54:37.127564Z",
     "shell.execute_reply": "2025-10-03T12:54:37.126860Z",
     "shell.execute_reply.started": "2025-10-03T12:54:37.122519Z"
    },
    "tags": []
   },
   "outputs": [],
   "source": [
    "import IPython\n",
    "\n",
    "import pandas as pd\n",
    "import matplotlib.pyplot as plt\n",
    "import qiime2 \n",
    "import seaborn as sns\n",
    "\n",
    "import os\n",
    "\n",
    "import matplotlib.pyplot as plt\n",
    "%matplotlib inline"
   ]
  },
  {
   "cell_type": "code",
   "execution_count": 18,
   "id": "a593c6f7-8fed-4bc3-adca-6896fb32a9a2",
   "metadata": {
    "execution": {
     "iopub.execute_input": "2025-10-03T12:54:37.757820Z",
     "iopub.status.busy": "2025-10-03T12:54:37.757420Z",
     "iopub.status.idle": "2025-10-03T12:54:37.763193Z",
     "shell.execute_reply": "2025-10-03T12:54:37.761583Z",
     "shell.execute_reply.started": "2025-10-03T12:54:37.757794Z"
    },
    "tags": []
   },
   "outputs": [],
   "source": [
    "PATH = \"data/fungut_metadata.tsv\""
   ]
  },
  {
   "cell_type": "code",
   "execution_count": 19,
   "id": "3fd07c05-018a-4c70-8559-c9aae39dc653",
   "metadata": {
    "execution": {
     "iopub.execute_input": "2025-10-03T12:54:38.144504Z",
     "iopub.status.busy": "2025-10-03T12:54:38.144189Z",
     "iopub.status.idle": "2025-10-03T12:54:38.147871Z",
     "shell.execute_reply": "2025-10-03T12:54:38.147354Z",
     "shell.execute_reply.started": "2025-10-03T12:54:38.144480Z"
    },
    "tags": []
   },
   "outputs": [],
   "source": [
    "# Our data\n",
    "# pd.read_csv(PATH, sep=\"\\t\")"
   ]
  },
  {
   "cell_type": "code",
   "execution_count": 20,
   "id": "4eece47f-25ff-4c33-a7f9-6234fd6aadcf",
   "metadata": {
    "execution": {
     "iopub.execute_input": "2025-10-03T12:54:38.499118Z",
     "iopub.status.busy": "2025-10-03T12:54:38.498521Z",
     "iopub.status.idle": "2025-10-03T12:54:38.506572Z",
     "shell.execute_reply": "2025-10-03T12:54:38.505935Z",
     "shell.execute_reply.started": "2025-10-03T12:54:38.499091Z"
    },
    "tags": []
   },
   "outputs": [],
   "source": [
    "surveys_df = pd.read_csv(PATH, sep=\"\\t\")"
   ]
  },
  {
   "cell_type": "code",
   "execution_count": null,
   "id": "90a8569c-3c70-4578-ac61-120d9a73f6ad",
   "metadata": {},
   "outputs": [],
   "source": []
  }
 ],
 "metadata": {
  "kernelspec": {
   "display_name": "QIIME 2",
   "language": "python",
   "name": "python3"
  },
  "language_info": {
   "codemirror_mode": {
    "name": "ipython",
    "version": 3
   },
   "file_extension": ".py",
   "mimetype": "text/x-python",
   "name": "python",
   "nbconvert_exporter": "python",
   "pygments_lexer": "ipython3",
   "version": "3.10.14"
  }
 },
 "nbformat": 4,
 "nbformat_minor": 5
}
