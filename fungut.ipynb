{
 "cells": [
  {
   "cell_type": "code",
   "execution_count": 33,
   "id": "c8b7b672-4fca-4f4e-ab08-c397ec914b27",
   "metadata": {
    "execution": {
     "iopub.execute_input": "2025-10-01T13:48:06.206428Z",
     "iopub.status.busy": "2025-10-01T13:48:06.205601Z",
     "iopub.status.idle": "2025-10-01T13:48:06.210627Z",
     "shell.execute_reply": "2025-10-01T13:48:06.209603Z",
     "shell.execute_reply.started": "2025-10-01T13:48:06.206373Z"
    },
    "tags": []
   },
   "outputs": [],
   "source": [
    "# Das ist unser Code"
   ]
  },
  {
   "cell_type": "code",
   "execution_count": 58,
   "id": "c3c49989-b370-4cf6-b00c-336446fd4305",
   "metadata": {
    "execution": {
     "iopub.execute_input": "2025-10-01T13:55:40.264791Z",
     "iopub.status.busy": "2025-10-01T13:55:40.264489Z",
     "iopub.status.idle": "2025-10-01T13:55:40.272143Z",
     "shell.execute_reply": "2025-10-01T13:55:40.270847Z",
     "shell.execute_reply.started": "2025-10-01T13:55:40.264768Z"
    },
    "tags": []
   },
   "outputs": [],
   "source": [
    "import IPython\n",
    "\n",
    "import pandas as pd\n",
    "import matplotlib.pyplot as plt\n",
    "import qiime2 \n",
    "import seaborn as sns\n",
    "\n",
    "import os\n",
    "\n",
    "import matplotlib.pyplot as plt\n",
    "%matplotlib inline"
   ]
  },
  {
   "cell_type": "code",
   "execution_count": 59,
   "id": "a593c6f7-8fed-4bc3-adca-6896fb32a9a2",
   "metadata": {
    "execution": {
     "iopub.execute_input": "2025-10-01T13:55:40.792751Z",
     "iopub.status.busy": "2025-10-01T13:55:40.792020Z",
     "iopub.status.idle": "2025-10-01T13:55:40.795733Z",
     "shell.execute_reply": "2025-10-01T13:55:40.795216Z",
     "shell.execute_reply.started": "2025-10-01T13:55:40.792722Z"
    },
    "tags": []
   },
   "outputs": [],
   "source": [
    "PATH = \"data/fungut_metadata.tsv\""
   ]
  },
  {
   "cell_type": "code",
   "execution_count": 60,
   "id": "3fd07c05-018a-4c70-8559-c9aae39dc653",
   "metadata": {
    "execution": {
     "iopub.execute_input": "2025-10-01T13:55:40.796995Z",
     "iopub.status.busy": "2025-10-01T13:55:40.796713Z",
     "iopub.status.idle": "2025-10-01T13:55:40.816050Z",
     "shell.execute_reply": "2025-10-01T13:55:40.815115Z",
     "shell.execute_reply.started": "2025-10-01T13:55:40.796977Z"
    },
    "tags": []
   },
   "outputs": [],
   "source": [
    "# Our data\n",
    "# pd.read_csv(PATH, sep=\"\\t\")"
   ]
  },
  {
   "cell_type": "code",
   "execution_count": 61,
   "id": "4eece47f-25ff-4c33-a7f9-6234fd6aadcf",
   "metadata": {
    "execution": {
     "iopub.execute_input": "2025-10-01T13:55:41.119821Z",
     "iopub.status.busy": "2025-10-01T13:55:41.119385Z",
     "iopub.status.idle": "2025-10-01T13:55:41.130095Z",
     "shell.execute_reply": "2025-10-01T13:55:41.129446Z",
     "shell.execute_reply.started": "2025-10-01T13:55:41.119781Z"
    },
    "tags": []
   },
   "outputs": [],
   "source": [
    "surveys_df = pd.read_csv(PATH, sep=\"\\t\")"
   ]
  },
  {
   "cell_type": "code",
   "execution_count": null,
   "id": "3587c072-a35a-4358-9948-c49cb452fc57",
   "metadata": {},
   "outputs": [],
   "source": []
  },
  {
   "cell_type": "code",
   "execution_count": null,
   "id": "832cff78-b952-4f3b-8e79-15f9db940f7c",
   "metadata": {},
   "outputs": [],
   "source": []
  }
 ],
 "metadata": {
  "kernelspec": {
   "display_name": "QIIME 2",
   "language": "python",
   "name": "python3"
  },
  "language_info": {
   "codemirror_mode": {
    "name": "ipython",
    "version": 3
   },
   "file_extension": ".py",
   "mimetype": "text/x-python",
   "name": "python",
   "nbconvert_exporter": "python",
   "pygments_lexer": "ipython3",
   "version": "3.10.14"
  }
 },
 "nbformat": 4,
 "nbformat_minor": 5
}
