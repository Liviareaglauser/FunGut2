{
 "cells": [
  {
   "cell_type": "code",
   "execution_count": 1,
   "id": "c8b7b672-4fca-4f4e-ab08-c397ec914b27",
   "metadata": {
    "execution": {
     "iopub.execute_input": "2025-10-01T11:48:23.813029Z",
     "iopub.status.busy": "2025-10-01T11:48:23.812639Z",
     "iopub.status.idle": "2025-10-01T11:48:23.816591Z",
     "shell.execute_reply": "2025-10-01T11:48:23.815899Z",
     "shell.execute_reply.started": "2025-10-01T11:48:23.812995Z"
    },
    "tags": []
   },
   "outputs": [],
   "source": [
    "# Das ist unser Code"
   ]
  },
  {
   "cell_type": "code",
   "execution_count": 2,
   "id": "c3c49989-b370-4cf6-b00c-336446fd4305",
   "metadata": {
    "execution": {
     "iopub.execute_input": "2025-10-01T11:48:27.814822Z",
     "iopub.status.busy": "2025-10-01T11:48:27.813149Z",
     "iopub.status.idle": "2025-10-01T11:48:29.733207Z",
     "shell.execute_reply": "2025-10-01T11:48:29.732275Z",
     "shell.execute_reply.started": "2025-10-01T11:48:27.814784Z"
    }
   },
   "outputs": [],
   "source": [
    "import IPython\n",
    "\n",
    "import pandas as pd\n",
    "import matplotlib.pyplot as plt\n",
    "import qiime2 as q2\n",
    "import seaborn as sns\n",
    "\n",
    "import os\n",
    "\n",
    "import matplotlib.pyplot as plt\n",
    "%matplotlib inline"
   ]
  },
  {
   "cell_type": "code",
   "execution_count": 6,
   "id": "a593c6f7-8fed-4bc3-adca-6896fb32a9a2",
   "metadata": {
    "execution": {
     "iopub.execute_input": "2025-10-01T11:52:01.002102Z",
     "iopub.status.busy": "2025-10-01T11:52:01.001209Z",
     "iopub.status.idle": "2025-10-01T11:52:01.005075Z",
     "shell.execute_reply": "2025-10-01T11:52:01.004382Z",
     "shell.execute_reply.started": "2025-10-01T11:52:01.002068Z"
    },
    "tags": []
   },
   "outputs": [],
   "source": [
    "PATH = \"data/fungut_metadata.tsv\""
   ]
  },
  {
   "cell_type": "code",
   "execution_count": 13,
   "id": "3fd07c05-018a-4c70-8559-c9aae39dc653",
   "metadata": {
    "execution": {
     "iopub.execute_input": "2025-10-01T11:58:32.424427Z",
     "iopub.status.busy": "2025-10-01T11:58:32.423802Z",
     "iopub.status.idle": "2025-10-01T11:58:32.427021Z",
     "shell.execute_reply": "2025-10-01T11:58:32.426408Z",
     "shell.execute_reply.started": "2025-10-01T11:58:32.424400Z"
    },
    "tags": []
   },
   "outputs": [],
   "source": [
    "# Our data\n",
    "# pd.read_csv(PATH, sep=\"\\t\")"
   ]
  },
  {
   "cell_type": "code",
   "execution_count": 21,
   "id": "4eece47f-25ff-4c33-a7f9-6234fd6aadcf",
   "metadata": {
    "execution": {
     "iopub.execute_input": "2025-10-01T12:01:18.278367Z",
     "iopub.status.busy": "2025-10-01T12:01:18.277973Z",
     "iopub.status.idle": "2025-10-01T12:01:18.285305Z",
     "shell.execute_reply": "2025-10-01T12:01:18.284572Z",
     "shell.execute_reply.started": "2025-10-01T12:01:18.278332Z"
    },
    "tags": []
   },
   "outputs": [],
   "source": [
    "surveys_df = pd.read_csv(PATH, sep=\"\\t\")"
   ]
  },
  {
   "cell_type": "code",
   "execution_count": null,
   "id": "d9e62071-7f5e-448b-b078-8b77d147adcd",
   "metadata": {},
   "outputs": [],
   "source": [
    "#fhasdlls"
   ]
  }
 ],
 "metadata": {
  "kernelspec": {
   "display_name": "QIIME 2",
   "language": "python",
   "name": "python3"
  },
  "language_info": {
   "codemirror_mode": {
    "name": "ipython",
    "version": 3
   },
   "file_extension": ".py",
   "mimetype": "text/x-python",
   "name": "python",
   "nbconvert_exporter": "python",
   "pygments_lexer": "ipython3",
   "version": "3.10.14"
  }
 },
 "nbformat": 4,
 "nbformat_minor": 5
}
